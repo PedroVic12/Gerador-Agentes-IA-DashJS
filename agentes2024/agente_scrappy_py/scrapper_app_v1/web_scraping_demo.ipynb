{
 "cells": [
  {
   "cell_type": "markdown",
   "metadata": {},
   "source": [
    "# Web Scraping e Geração de PDF - Tutorial\n",
    "\n",
    "Este notebook demonstra como realizar web scraping e gerar PDFs usando Python."
   ]
  },
  {
   "cell_type": "code",
   "execution_count": null,
   "metadata": {},
   "source": [
    "# Importando as bibliotecas necessárias\n",
    "from bs4 import BeautifulSoup\n",
    "import requests\n",
    "import json\n",
    "import pyautogui\n",
    "from datetime import datetime\n",
    "from reportlab.pdfgen import canvas\n",
    "from reportlab.lib.pagesizes import letter\n",
    "from reportlab.platypus import SimpleDocTemplate, Paragraph, Spacer\n",
    "from reportlab.lib.styles import getSampleStyleSheet, ParagraphStyle"
   ]
  },
  {
   "cell_type": "markdown",
   "metadata": {},
   "source": [
    "## 1. Web Scraping\n",
    "\n",
    "Vamos criar funções para extrair dados de websites."
   ]
  },
  {
   "cell_type": "code",
   "execution_count": null,
   "metadata": {},
   "source": [
    "def web_scraping(url):\n",
    "    \"\"\"Realiza web scraping em uma URL específica.\"\"\"\n",
    "    try:\n",
    "        response = requests.get(url)\n",
    "        response.raise_for_status()\n",
    "        soup = BeautifulSoup(response.text, 'html.parser')\n",
    "        \n",
    "        # Extrai dados\n",
    "        data = {\n",
    "            'title': soup.title.string if soup.title else '',\n",
    "            'paragraphs': [p.text for p in soup.find_all('p')],\n",
    "            'links': [{'text': a.text, 'href': a.get('href')} for a in soup.find_all('a')]\n",
    "        }\n",
    "        \n",
    "        # Salva em JSON\n",
    "        timestamp = datetime.now().strftime(\"%Y%m%d_%H%M%S\")\n",
    "        filename = f\"scraping_result_{timestamp}.json\"\n",
    "        with open(filename, 'w', encoding='utf-8') as f:\n",
    "            json.dump(data, f, ensure_ascii=False, indent=4)\n",
    "            \n",
    "        return data, filename\n",
    "    \n",
    "    except Exception as e:\n",
    "        print(f\"Erro durante o scraping: {str(e)}\")\n",
    "        return None, None"
   ]
  },
  {
   "cell_type": "markdown",
   "metadata": {},
   "source": [
    "## 2. Captura de Tela\n",
    "\n",
    "Função para capturar screenshots."
   ]
  },
  {
   "cell_type": "code",
   "execution_count": null,
   "metadata": {},
   "source": [
    "def capture_screen(region=None):\n",
    "    \"\"\"Captura a tela ou uma região específica.\"\"\"\n",
    "    try:\n",
    "        timestamp = datetime.now().strftime(\"%Y%m%d_%H%M%S\")\n",
    "        filename = f\"screenshot_{timestamp}.png\"\n",
    "        \n",
    "        screenshot = pyautogui.screenshot(region=region)\n",
    "        screenshot.save(filename)\n",
    "        \n",
    "        return filename\n",
    "    except Exception as e:\n",
    "        print(f\"Erro na captura: {str(e)}\")\n",
    "        return None"
   ]
  },
  {
   "cell_type": "markdown",
   "metadata": {},
   "source": [
    "## 3. Geração de PDF\n",
    "\n",
    "Função para criar PDFs a partir dos dados coletados."
   ]
  },
  {
   "cell_type": "code",
   "execution_count": null,
   "metadata": {},
   "source": [
    "def create_pdf(filename, content):\n",
    "    \"\"\"Cria um PDF com o conteúdo fornecido.\"\"\"\n",
    "    try:\n",
    "        doc = SimpleDocTemplate(filename, pagesize=letter)\n",
    "        styles = getSampleStyleSheet()\n",
    "        story = []\n",
    "\n",
    "        # Título\n",
    "        title_style = ParagraphStyle(\n",
    "            'CustomTitle',\n",
    "            parent=styles['Heading1'],\n",
    "            fontSize=24,\n",
    "            spaceAfter=30\n",
    "        )\n",
    "        story.append(Paragraph(content.get('title', 'Documento'), title_style))\n",
    "        story.append(Spacer(1, 12))\n",
    "\n",
    "        # Parágrafos\n",
    "        for paragraph in content.get('paragraphs', []):\n",
    "            story.append(Paragraph(paragraph, styles['Normal']))\n",
    "            story.append(Spacer(1, 12))\n",
    "\n",
    "        # Links\n",
    "        if content.get('links'):\n",
    "            story.append(Paragraph('Links:', styles['Heading2']))\n",
    "            for link in content['links']:\n",
    "                story.append(Paragraph(\n",
    "                    f\"{link['text']}: {link['href']}\", \n",
    "                    styles['Normal']\n",
    "                ))\n",
    "                story.append(Spacer(1, 6))\n",
    "\n",
    "        doc.build(story)\n",
    "        return filename\n",
    "\n",
    "    except Exception as e:\n",
    "        print(f\"Erro ao criar PDF: {str(e)}\")\n",
    "        return None"
   ]
  },
  {
   "cell_type": "markdown",
   "metadata": {},
   "source": [
    "## 4. Exemplo de Uso\n",
    "\n",
    "Vamos testar as funções criadas."
   ]
  },
  {
   "cell_type": "code",
   "execution_count": null,
   "metadata": {},
   "source": [
    "# URL de exemplo\n",
    "url = \"https://docs.agentql.com/examples/python-examples\"\n",
    "\n",
    "# Realiza web scraping\n",
    "print(\"1. Realizando web scraping...\")\n",
    "data, json_file = web_scraping(url)\n",
    "if data:\n",
    "    print(f\"Dados salvos em: {json_file}\")\n",
    "    print(f\"Título encontrado: {data['title']}\")\n",
    "    print(f\"Número de parágrafos: {len(data['paragraphs'])}\")\n",
    "    print(f\"Número de links: {len(data['links'])}\")\n",
    "\n",
    "# Captura screenshot\n",
    "print(\"\\n2. Capturando screenshot...\")\n",
    "screenshot_file = capture_screen()\n",
    "if screenshot_file:\n",
    "    print(f\"Screenshot salvo como: {screenshot_file}\")\n",
    "\n",
    "# Gera PDF\n",
    "if data:\n",
    "    print(\"\\n3. Gerando PDF...\")\n",
    "    timestamp = datetime.now().strftime(\"%Y%m%d_%H%M%S\")\n",
    "    pdf_file = f\"report_{timestamp}.pdf\"\n",
    "    if create_pdf(pdf_file, data):\n",
    "        print(f\"PDF gerado com sucesso: {pdf_file}\")"
   ]
  }
 ],
 "metadata": {
  "kernelspec": {
   "display_name": "Python 3",
   "language": "python",
   "name": "python3"
  },
  "language_info": {
   "codemirror_mode": {
    "name": "ipython",
    "version": 3
   },
   "file_extension": ".py",
   "mimetype": "text/x-python",
   "name": "python",
   "nbconvert_exporter": "python",
   "pygments_lexer": "ipython3",
   "version": "3.12"
  }
 },
 "nbformat": 4,
 "nbformat_minor": 4
}
